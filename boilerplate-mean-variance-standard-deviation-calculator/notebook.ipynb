{
 "cells": [
  {
   "cell_type": "code",
   "execution_count": 13,
   "metadata": {},
   "outputs": [
    {
     "data": {
      "text/plain": [
       "[array([3., 4., 5.]), array([1., 4., 7.]), 4.0]"
      ]
     },
     "execution_count": 13,
     "metadata": {},
     "output_type": "execute_result"
    }
   ],
   "source": [
    "import numpy as np\n",
    "\n",
    "input_list = [0, 1, 2, 3, 4, 5, 6, 7, 8]\n",
    "\n",
    "if len(input_list) < 9:\n",
    "    raise ValueError(\"List must contain nine numbers.\")\n",
    "\n",
    "input_list = np.array(input_list)\n",
    "\n",
    "calculations = {\n",
    "    \"mean\": None,\n",
    "    \"variance\": None,\n",
    "    \"standard deviation\": None,\n",
    "    \"max\": None,\n",
    "    \"min\": None,\n",
    "    \"sum\": None,\n",
    "}\n",
    "\n",
    "input_matrix = np.reshape(input_list, (3, 3))\n",
    "\n",
    "mean_list = []\n",
    "input_matrix.mean(axis=0)\n",
    "mean_list.extend(\n",
    "    [input_matrix.mean(axis=0), input_matrix.mean(axis=1), input_list.mean()]\n",
    ")\n",
    "mean_list"
   ]
  }
 ],
 "metadata": {
  "kernelspec": {
   "display_name": "Python 3",
   "language": "python",
   "name": "python3"
  },
  "language_info": {
   "codemirror_mode": {
    "name": "ipython",
    "version": 3
   },
   "file_extension": ".py",
   "mimetype": "text/x-python",
   "name": "python",
   "nbconvert_exporter": "python",
   "pygments_lexer": "ipython3",
   "version": "3.11.5"
  },
  "orig_nbformat": 4
 },
 "nbformat": 4,
 "nbformat_minor": 2
}
